{
 "cells": [
  {
   "cell_type": "code",
   "execution_count": 1,
   "metadata": {},
   "outputs": [],
   "source": [
    "from collections import OrderedDict\n",
    "from argparse import Namespace\n",
    "from math import ceil\n",
    "\n",
    "import torch\n",
    "import numpy as np\n",
    "import soundfile as sf\n",
    "from librosa.filters import mel\n",
    "from numpy.random import RandomState\n",
    "from scipy import signal\n",
    "from scipy.signal import get_window\n",
    "\n",
    "from model_bl import D_VECTOR\n",
    "from model_vc import Generator\n",
    "from synthesis import build_model, wavegen"
   ]
  },
  {
   "cell_type": "code",
   "execution_count": 2,
   "metadata": {},
   "outputs": [],
   "source": [
    "cn_wav = '/home/cheul/projects/clones/autovc_mod/wavs/dementiabank/cn/002-0.wav'\n",
    "dm_wav = '/home/cheul/projects/clones/autovc_mod/wavs/dementiabank/dm/001-0.wav'\n",
    "\n",
    "\n",
    "def butter_highpass(cutoff, fs, order=5):\n",
    "    nyq = 0.5 * fs\n",
    "    normal_cutoff = cutoff / nyq\n",
    "    b, a = signal.butter(order, normal_cutoff, btype=\"high\", analog=False)\n",
    "    return b, a\n",
    "\n",
    "\n",
    "def pySTFT(x, fft_length=1024, hop_length=256):\n",
    "\n",
    "    x = np.pad(x, int(fft_length // 2), mode=\"reflect\")\n",
    "\n",
    "    noverlap = fft_length - hop_length\n",
    "    shape = x.shape[:-1] + ((x.shape[-1] - noverlap) // hop_length, fft_length)\n",
    "    strides = x.strides[:-1] + (hop_length * x.strides[-1], x.strides[-1])\n",
    "    result = np.lib.stride_tricks.as_strided(x, shape=shape, strides=strides)\n",
    "\n",
    "    fft_window = get_window(\"hann\", fft_length, fftbins=True)\n",
    "    result = np.fft.rfft(fft_window * result, n=fft_length).T\n",
    "\n",
    "    return np.abs(result)\n",
    "\n",
    "\n",
    "def get_melspec(wav_path, seed=0):\n",
    "    mel_basis = mel(16000, 1024, fmin=80, fmax=7600, n_mels=80).T\n",
    "    min_level = np.exp(-100 / 20 * np.log(10))\n",
    "    b, a = butter_highpass(30, 16000, order=5)\n",
    "\n",
    "    # Read audio file\n",
    "    x, fs = sf.read(wav_path)\n",
    "\n",
    "    # Remove drifting noise\n",
    "    y = signal.filtfilt(b, a, x)\n",
    "\n",
    "    # Add a little random noise for model roubstness\n",
    "    wav = (\n",
    "        y * 0.96\n",
    "        + (RandomState(seed).rand(y.shape[0]) - 0.5)\n",
    "        * 1e-06\n",
    "    )\n",
    "\n",
    "    # Compute spect\n",
    "    D = pySTFT(wav).T\n",
    "\n",
    "    # Convert to mel and normalize\n",
    "    D_mel = np.dot(D, mel_basis)\n",
    "    D_db = 20 * np.log10(np.maximum(min_level, D_mel)) - 16\n",
    "    S = np.clip((D_db + 100) / 100, 0, 1)\n",
    "\n",
    "    return S.astype(np.float32)\n"
   ]
  },
  {
   "cell_type": "code",
   "execution_count": 3,
   "metadata": {},
   "outputs": [
    {
     "name": "stdout",
     "output_type": "stream",
     "text": [
      "(3922, 80) (3450, 80)\n"
     ]
    }
   ],
   "source": [
    "S_cn, S_dm = get_melspec(cn_wav), get_melspec(dm_wav)\n",
    "print(S_cn.shape, S_dm.shape)"
   ]
  },
  {
   "cell_type": "code",
   "execution_count": 4,
   "metadata": {},
   "outputs": [
    {
     "name": "stdout",
     "output_type": "stream",
     "text": [
      "D_VECTOR(\n",
      "  (lstm): LSTM(80, 768, num_layers=3, batch_first=True)\n",
      "  (embedding): Linear(in_features=768, out_features=256, bias=True)\n",
      ")\n"
     ]
    }
   ],
   "source": [
    "# load pretrained speaker encoder,\n",
    "# with LSTM layers of size 768 and bottleneck fc layer of size 256\n",
    "E_S = D_VECTOR(dim_input=80, dim_cell=768, dim_emb=256).eval().cuda()\n",
    "ckpt = torch.load(\"assets/3000000-BL.ckpt\")\n",
    "\n",
    "new_state_dict = OrderedDict()\n",
    "for key, val in ckpt[\"model_b\"].items():\n",
    "    new_key = key[7:]\n",
    "    new_state_dict[new_key] = val\n",
    "E_S.load_state_dict(new_state_dict)\n",
    "\n",
    "print(E_S)"
   ]
  },
  {
   "cell_type": "code",
   "execution_count": 5,
   "metadata": {},
   "outputs": [
    {
     "name": "stdout",
     "output_type": "stream",
     "text": [
      "torch.Size([1, 3922, 80]) torch.Size([1, 3450, 80])\n",
      "torch.Size([1, 256]) torch.Size([1, 256])\n"
     ]
    }
   ],
   "source": [
    "# get speaker embeddings from mel-spectrograms\n",
    "S_cn_tensor = torch.from_numpy(S_cn).unsqueeze(0)\n",
    "S_dm_tensor = torch.from_numpy(S_dm).unsqueeze(0)\n",
    "print(S_cn_tensor.shape, S_dm_tensor.shape)\n",
    "\n",
    "I_cn = E_S(S_cn_tensor.cuda()).detach().cpu()\n",
    "I_dm = E_S(S_dm_tensor.cuda()).detach().cpu()\n",
    "print(I_cn.shape, I_dm.shape)"
   ]
  },
  {
   "cell_type": "code",
   "execution_count": 6,
   "metadata": {},
   "outputs": [
    {
     "name": "stdout",
     "output_type": "stream",
     "text": [
      "Generator(\n",
      "  (encoder): Encoder(\n",
      "    (convolutions): ModuleList(\n",
      "      (0): Sequential(\n",
      "        (0): ConvNorm(\n",
      "          (conv): Conv1d(336, 512, kernel_size=(5,), stride=(1,), padding=(2,))\n",
      "        )\n",
      "        (1): BatchNorm1d(512, eps=1e-05, momentum=0.1, affine=True, track_running_stats=True)\n",
      "      )\n",
      "      (1): Sequential(\n",
      "        (0): ConvNorm(\n",
      "          (conv): Conv1d(512, 512, kernel_size=(5,), stride=(1,), padding=(2,))\n",
      "        )\n",
      "        (1): BatchNorm1d(512, eps=1e-05, momentum=0.1, affine=True, track_running_stats=True)\n",
      "      )\n",
      "      (2): Sequential(\n",
      "        (0): ConvNorm(\n",
      "          (conv): Conv1d(512, 512, kernel_size=(5,), stride=(1,), padding=(2,))\n",
      "        )\n",
      "        (1): BatchNorm1d(512, eps=1e-05, momentum=0.1, affine=True, track_running_stats=True)\n",
      "      )\n",
      "    )\n",
      "    (lstm): LSTM(512, 32, num_layers=2, batch_first=True, bidirectional=True)\n",
      "  )\n",
      "  (decoder): Decoder(\n",
      "    (lstm1): LSTM(320, 512, batch_first=True)\n",
      "    (convolutions): ModuleList(\n",
      "      (0): Sequential(\n",
      "        (0): ConvNorm(\n",
      "          (conv): Conv1d(512, 512, kernel_size=(5,), stride=(1,), padding=(2,))\n",
      "        )\n",
      "        (1): BatchNorm1d(512, eps=1e-05, momentum=0.1, affine=True, track_running_stats=True)\n",
      "      )\n",
      "      (1): Sequential(\n",
      "        (0): ConvNorm(\n",
      "          (conv): Conv1d(512, 512, kernel_size=(5,), stride=(1,), padding=(2,))\n",
      "        )\n",
      "        (1): BatchNorm1d(512, eps=1e-05, momentum=0.1, affine=True, track_running_stats=True)\n",
      "      )\n",
      "      (2): Sequential(\n",
      "        (0): ConvNorm(\n",
      "          (conv): Conv1d(512, 512, kernel_size=(5,), stride=(1,), padding=(2,))\n",
      "        )\n",
      "        (1): BatchNorm1d(512, eps=1e-05, momentum=0.1, affine=True, track_running_stats=True)\n",
      "      )\n",
      "    )\n",
      "    (lstm2): LSTM(512, 1024, num_layers=2, batch_first=True)\n",
      "    (linear_projection): LinearNorm(\n",
      "      (linear_layer): Linear(in_features=1024, out_features=80, bias=True)\n",
      "    )\n",
      "  )\n",
      "  (postnet): Postnet(\n",
      "    (convolutions): ModuleList(\n",
      "      (0): Sequential(\n",
      "        (0): ConvNorm(\n",
      "          (conv): Conv1d(80, 512, kernel_size=(5,), stride=(1,), padding=(2,))\n",
      "        )\n",
      "        (1): BatchNorm1d(512, eps=1e-05, momentum=0.1, affine=True, track_running_stats=True)\n",
      "      )\n",
      "      (1): Sequential(\n",
      "        (0): ConvNorm(\n",
      "          (conv): Conv1d(512, 512, kernel_size=(5,), stride=(1,), padding=(2,))\n",
      "        )\n",
      "        (1): BatchNorm1d(512, eps=1e-05, momentum=0.1, affine=True, track_running_stats=True)\n",
      "      )\n",
      "      (2): Sequential(\n",
      "        (0): ConvNorm(\n",
      "          (conv): Conv1d(512, 512, kernel_size=(5,), stride=(1,), padding=(2,))\n",
      "        )\n",
      "        (1): BatchNorm1d(512, eps=1e-05, momentum=0.1, affine=True, track_running_stats=True)\n",
      "      )\n",
      "      (3): Sequential(\n",
      "        (0): ConvNorm(\n",
      "          (conv): Conv1d(512, 512, kernel_size=(5,), stride=(1,), padding=(2,))\n",
      "        )\n",
      "        (1): BatchNorm1d(512, eps=1e-05, momentum=0.1, affine=True, track_running_stats=True)\n",
      "      )\n",
      "      (4): Sequential(\n",
      "        (0): ConvNorm(\n",
      "          (conv): Conv1d(512, 80, kernel_size=(5,), stride=(1,), padding=(2,))\n",
      "        )\n",
      "        (1): BatchNorm1d(80, eps=1e-05, momentum=0.1, affine=True, track_running_stats=True)\n",
      "      )\n",
      "    )\n",
      "  )\n",
      ")\n"
     ]
    }
   ],
   "source": [
    "config = Namespace(\n",
    "    batch_size=2,\n",
    "    data_dir='./spmel',\n",
    "    dim_neck=32,\n",
    "    dim_emb=256,\n",
    "    dim_pre=512,\n",
    "    freq=32,\n",
    "    lambda_cd=1,\n",
    "    len_crop=128,\n",
    "    log_step=10,\n",
    "    num_iters=1000000\n",
    ")\n",
    "\n",
    "device = 'cuda'\n",
    "G = Generator(config.dim_neck, config.dim_emb, config.dim_pre, config.freq).eval().to(device)\n",
    "G.load_state_dict(torch.load('assets/autovc.ckpt', map_location=device)['model'])\n",
    "print(G)"
   ]
  },
  {
   "cell_type": "code",
   "execution_count": 7,
   "metadata": {},
   "outputs": [
    {
     "name": "stdout",
     "output_type": "stream",
     "text": [
      "(3936, 80) 14\n",
      "(3456, 80) 6\n",
      "torch.Size([1, 3936, 80]) torch.Size([1, 3456, 80]) torch.Size([1, 256]) torch.Size([1, 256])\n"
     ]
    }
   ],
   "source": [
    "def pad_seq(x, base=32):\n",
    "    len_out = int(base * ceil(float(x.shape[0])/base))\n",
    "    len_pad = len_out - x.shape[0]\n",
    "    assert len_pad >= 0\n",
    "    return np.pad(x, ((0,len_pad),(0,0)), 'constant'), len_pad\n",
    "\n",
    "\n",
    "S_cn_padded, len_pad_cn = pad_seq(S_cn)\n",
    "print(S_cn_padded.shape, len_pad_cn)\n",
    "\n",
    "S_dm_padded, len_pad_dm = pad_seq(S_dm)\n",
    "print(S_dm_padded.shape, len_pad_dm)\n",
    "\n",
    "S_cn_cuda = torch.from_numpy(S_cn_padded).unsqueeze(0).to(device)\n",
    "S_dm_cuda = torch.from_numpy(S_dm_padded).unsqueeze(0).to(device)\n",
    "I_cn_cuda = I_cn.to(device)\n",
    "I_dm_cuda = I_dm.to(device)\n",
    "\n",
    "print(S_cn_cuda.shape, S_dm_cuda.shape, I_cn_cuda.shape, I_dm_cuda.shape)"
   ]
  },
  {
   "cell_type": "code",
   "execution_count": 8,
   "metadata": {},
   "outputs": [
    {
     "name": "stdout",
     "output_type": "stream",
     "text": [
      "torch.Size([1, 1, 3936, 80]) torch.Size([1, 1, 3456, 80])\n"
     ]
    }
   ],
   "source": [
    "with torch.no_grad():\n",
    "    _, X_cn_to_dm, _ = G(S_cn_cuda, I_cn_cuda, I_dm_cuda)\n",
    "    _, X_dm_to_cn, _ = G(S_dm_cuda, I_dm_cuda, I_cn_cuda)\n",
    "\n",
    "print(X_cn_to_dm.shape, X_dm_to_cn.shape)"
   ]
  },
  {
   "cell_type": "code",
   "execution_count": 9,
   "metadata": {},
   "outputs": [
    {
     "name": "stdout",
     "output_type": "stream",
     "text": [
      "(3922, 80) (3450, 80)\n"
     ]
    }
   ],
   "source": [
    "X_cn_to_dm = X_cn_to_dm[0, 0, :-len_pad_cn, :].cpu().numpy()\n",
    "X_dm_to_cn = X_dm_to_cn[0, 0, :-len_pad_dm, :].cpu().numpy()\n",
    "\n",
    "print(X_cn_to_dm.shape, X_dm_to_cn.shape)"
   ]
  },
  {
   "cell_type": "code",
   "execution_count": 10,
   "metadata": {},
   "outputs": [],
   "source": [
    "np.save(\"test/cn2dm.npy\", X_cn_to_dm)\n",
    "np.save(\"test/dm2cn.npy\", X_dm_to_cn)"
   ]
  },
  {
   "cell_type": "code",
   "execution_count": 13,
   "metadata": {},
   "outputs": [
    {
     "name": "stderr",
     "output_type": "stream",
     "text": [
      "Downloading...\n",
      "From: https://drive.google.com/uc?id=1_MXePg40-7DTjD0CDVzyduwQuW_O9aA1\n",
      "To: /home/cheul/data/models/parallel_wavegan/arctic_slt_parallel_wavegan.v1.tar.gz\n",
      "100%|██████████| 15.7M/15.7M [00:00<00:00, 17.5MB/s]\n"
     ]
    },
    {
     "data": {
      "text/plain": [
       "'/home/cheul/data/models/parallel_wavegan/arctic_slt_parallel_wavegan.v1/checkpoint-400000steps.pkl'"
      ]
     },
     "execution_count": 13,
     "metadata": {},
     "output_type": "execute_result"
    }
   ],
   "source": [
    "from parallel_wavegan.utils import download_pretrained_model\n",
    "\n",
    "download_pretrained_model(\"arctic_slt_parallel_wavegan.v1\", \"/home/cheul/data/models/parallel_wavegan\")"
   ]
  },
  {
   "cell_type": "code",
   "execution_count": 12,
   "metadata": {},
   "outputs": [
    {
     "name": "stdout",
     "output_type": "stream",
     "text": [
      "WaveNet(\n",
      "  (first_conv): Conv1d(1, 512, kernel_size=(1,), stride=(1,))\n",
      "  (conv_layers): ModuleList(\n",
      "    (0): ResidualConv1dGLU(\n",
      "      (conv): Conv1d(512, 512, kernel_size=(3,), stride=(1,), padding=(2,))\n",
      "      (conv1x1c): Conv1d(80, 512, kernel_size=(1,), stride=(1,))\n",
      "      (conv1x1_out): Conv1d(256, 512, kernel_size=(1,), stride=(1,))\n",
      "      (conv1x1_skip): Conv1d(256, 256, kernel_size=(1,), stride=(1,))\n",
      "    )\n",
      "    (1): ResidualConv1dGLU(\n",
      "      (conv): Conv1d(512, 512, kernel_size=(3,), stride=(1,), padding=(4,), dilation=(2,))\n",
      "      (conv1x1c): Conv1d(80, 512, kernel_size=(1,), stride=(1,))\n",
      "      (conv1x1_out): Conv1d(256, 512, kernel_size=(1,), stride=(1,))\n",
      "      (conv1x1_skip): Conv1d(256, 256, kernel_size=(1,), stride=(1,))\n",
      "    )\n",
      "    (2): ResidualConv1dGLU(\n",
      "      (conv): Conv1d(512, 512, kernel_size=(3,), stride=(1,), padding=(8,), dilation=(4,))\n",
      "      (conv1x1c): Conv1d(80, 512, kernel_size=(1,), stride=(1,))\n",
      "      (conv1x1_out): Conv1d(256, 512, kernel_size=(1,), stride=(1,))\n",
      "      (conv1x1_skip): Conv1d(256, 256, kernel_size=(1,), stride=(1,))\n",
      "    )\n",
      "    (3): ResidualConv1dGLU(\n",
      "      (conv): Conv1d(512, 512, kernel_size=(3,), stride=(1,), padding=(16,), dilation=(8,))\n",
      "      (conv1x1c): Conv1d(80, 512, kernel_size=(1,), stride=(1,))\n",
      "      (conv1x1_out): Conv1d(256, 512, kernel_size=(1,), stride=(1,))\n",
      "      (conv1x1_skip): Conv1d(256, 256, kernel_size=(1,), stride=(1,))\n",
      "    )\n",
      "    (4): ResidualConv1dGLU(\n",
      "      (conv): Conv1d(512, 512, kernel_size=(3,), stride=(1,), padding=(32,), dilation=(16,))\n",
      "      (conv1x1c): Conv1d(80, 512, kernel_size=(1,), stride=(1,))\n",
      "      (conv1x1_out): Conv1d(256, 512, kernel_size=(1,), stride=(1,))\n",
      "      (conv1x1_skip): Conv1d(256, 256, kernel_size=(1,), stride=(1,))\n",
      "    )\n",
      "    (5): ResidualConv1dGLU(\n",
      "      (conv): Conv1d(512, 512, kernel_size=(3,), stride=(1,), padding=(64,), dilation=(32,))\n",
      "      (conv1x1c): Conv1d(80, 512, kernel_size=(1,), stride=(1,))\n",
      "      (conv1x1_out): Conv1d(256, 512, kernel_size=(1,), stride=(1,))\n",
      "      (conv1x1_skip): Conv1d(256, 256, kernel_size=(1,), stride=(1,))\n",
      "    )\n",
      "    (6): ResidualConv1dGLU(\n",
      "      (conv): Conv1d(512, 512, kernel_size=(3,), stride=(1,), padding=(2,))\n",
      "      (conv1x1c): Conv1d(80, 512, kernel_size=(1,), stride=(1,))\n",
      "      (conv1x1_out): Conv1d(256, 512, kernel_size=(1,), stride=(1,))\n",
      "      (conv1x1_skip): Conv1d(256, 256, kernel_size=(1,), stride=(1,))\n",
      "    )\n",
      "    (7): ResidualConv1dGLU(\n",
      "      (conv): Conv1d(512, 512, kernel_size=(3,), stride=(1,), padding=(4,), dilation=(2,))\n",
      "      (conv1x1c): Conv1d(80, 512, kernel_size=(1,), stride=(1,))\n",
      "      (conv1x1_out): Conv1d(256, 512, kernel_size=(1,), stride=(1,))\n",
      "      (conv1x1_skip): Conv1d(256, 256, kernel_size=(1,), stride=(1,))\n",
      "    )\n",
      "    (8): ResidualConv1dGLU(\n",
      "      (conv): Conv1d(512, 512, kernel_size=(3,), stride=(1,), padding=(8,), dilation=(4,))\n",
      "      (conv1x1c): Conv1d(80, 512, kernel_size=(1,), stride=(1,))\n",
      "      (conv1x1_out): Conv1d(256, 512, kernel_size=(1,), stride=(1,))\n",
      "      (conv1x1_skip): Conv1d(256, 256, kernel_size=(1,), stride=(1,))\n",
      "    )\n",
      "    (9): ResidualConv1dGLU(\n",
      "      (conv): Conv1d(512, 512, kernel_size=(3,), stride=(1,), padding=(16,), dilation=(8,))\n",
      "      (conv1x1c): Conv1d(80, 512, kernel_size=(1,), stride=(1,))\n",
      "      (conv1x1_out): Conv1d(256, 512, kernel_size=(1,), stride=(1,))\n",
      "      (conv1x1_skip): Conv1d(256, 256, kernel_size=(1,), stride=(1,))\n",
      "    )\n",
      "    (10): ResidualConv1dGLU(\n",
      "      (conv): Conv1d(512, 512, kernel_size=(3,), stride=(1,), padding=(32,), dilation=(16,))\n",
      "      (conv1x1c): Conv1d(80, 512, kernel_size=(1,), stride=(1,))\n",
      "      (conv1x1_out): Conv1d(256, 512, kernel_size=(1,), stride=(1,))\n",
      "      (conv1x1_skip): Conv1d(256, 256, kernel_size=(1,), stride=(1,))\n",
      "    )\n",
      "    (11): ResidualConv1dGLU(\n",
      "      (conv): Conv1d(512, 512, kernel_size=(3,), stride=(1,), padding=(64,), dilation=(32,))\n",
      "      (conv1x1c): Conv1d(80, 512, kernel_size=(1,), stride=(1,))\n",
      "      (conv1x1_out): Conv1d(256, 512, kernel_size=(1,), stride=(1,))\n",
      "      (conv1x1_skip): Conv1d(256, 256, kernel_size=(1,), stride=(1,))\n",
      "    )\n",
      "    (12): ResidualConv1dGLU(\n",
      "      (conv): Conv1d(512, 512, kernel_size=(3,), stride=(1,), padding=(2,))\n",
      "      (conv1x1c): Conv1d(80, 512, kernel_size=(1,), stride=(1,))\n",
      "      (conv1x1_out): Conv1d(256, 512, kernel_size=(1,), stride=(1,))\n",
      "      (conv1x1_skip): Conv1d(256, 256, kernel_size=(1,), stride=(1,))\n",
      "    )\n",
      "    (13): ResidualConv1dGLU(\n",
      "      (conv): Conv1d(512, 512, kernel_size=(3,), stride=(1,), padding=(4,), dilation=(2,))\n",
      "      (conv1x1c): Conv1d(80, 512, kernel_size=(1,), stride=(1,))\n",
      "      (conv1x1_out): Conv1d(256, 512, kernel_size=(1,), stride=(1,))\n",
      "      (conv1x1_skip): Conv1d(256, 256, kernel_size=(1,), stride=(1,))\n",
      "    )\n",
      "    (14): ResidualConv1dGLU(\n",
      "      (conv): Conv1d(512, 512, kernel_size=(3,), stride=(1,), padding=(8,), dilation=(4,))\n",
      "      (conv1x1c): Conv1d(80, 512, kernel_size=(1,), stride=(1,))\n",
      "      (conv1x1_out): Conv1d(256, 512, kernel_size=(1,), stride=(1,))\n",
      "      (conv1x1_skip): Conv1d(256, 256, kernel_size=(1,), stride=(1,))\n",
      "    )\n",
      "    (15): ResidualConv1dGLU(\n",
      "      (conv): Conv1d(512, 512, kernel_size=(3,), stride=(1,), padding=(16,), dilation=(8,))\n",
      "      (conv1x1c): Conv1d(80, 512, kernel_size=(1,), stride=(1,))\n",
      "      (conv1x1_out): Conv1d(256, 512, kernel_size=(1,), stride=(1,))\n",
      "      (conv1x1_skip): Conv1d(256, 256, kernel_size=(1,), stride=(1,))\n",
      "    )\n",
      "    (16): ResidualConv1dGLU(\n",
      "      (conv): Conv1d(512, 512, kernel_size=(3,), stride=(1,), padding=(32,), dilation=(16,))\n",
      "      (conv1x1c): Conv1d(80, 512, kernel_size=(1,), stride=(1,))\n",
      "      (conv1x1_out): Conv1d(256, 512, kernel_size=(1,), stride=(1,))\n",
      "      (conv1x1_skip): Conv1d(256, 256, kernel_size=(1,), stride=(1,))\n",
      "    )\n",
      "    (17): ResidualConv1dGLU(\n",
      "      (conv): Conv1d(512, 512, kernel_size=(3,), stride=(1,), padding=(64,), dilation=(32,))\n",
      "      (conv1x1c): Conv1d(80, 512, kernel_size=(1,), stride=(1,))\n",
      "      (conv1x1_out): Conv1d(256, 512, kernel_size=(1,), stride=(1,))\n",
      "      (conv1x1_skip): Conv1d(256, 256, kernel_size=(1,), stride=(1,))\n",
      "    )\n",
      "    (18): ResidualConv1dGLU(\n",
      "      (conv): Conv1d(512, 512, kernel_size=(3,), stride=(1,), padding=(2,))\n",
      "      (conv1x1c): Conv1d(80, 512, kernel_size=(1,), stride=(1,))\n",
      "      (conv1x1_out): Conv1d(256, 512, kernel_size=(1,), stride=(1,))\n",
      "      (conv1x1_skip): Conv1d(256, 256, kernel_size=(1,), stride=(1,))\n",
      "    )\n",
      "    (19): ResidualConv1dGLU(\n",
      "      (conv): Conv1d(512, 512, kernel_size=(3,), stride=(1,), padding=(4,), dilation=(2,))\n",
      "      (conv1x1c): Conv1d(80, 512, kernel_size=(1,), stride=(1,))\n",
      "      (conv1x1_out): Conv1d(256, 512, kernel_size=(1,), stride=(1,))\n",
      "      (conv1x1_skip): Conv1d(256, 256, kernel_size=(1,), stride=(1,))\n",
      "    )\n",
      "    (20): ResidualConv1dGLU(\n",
      "      (conv): Conv1d(512, 512, kernel_size=(3,), stride=(1,), padding=(8,), dilation=(4,))\n",
      "      (conv1x1c): Conv1d(80, 512, kernel_size=(1,), stride=(1,))\n",
      "      (conv1x1_out): Conv1d(256, 512, kernel_size=(1,), stride=(1,))\n",
      "      (conv1x1_skip): Conv1d(256, 256, kernel_size=(1,), stride=(1,))\n",
      "    )\n",
      "    (21): ResidualConv1dGLU(\n",
      "      (conv): Conv1d(512, 512, kernel_size=(3,), stride=(1,), padding=(16,), dilation=(8,))\n",
      "      (conv1x1c): Conv1d(80, 512, kernel_size=(1,), stride=(1,))\n",
      "      (conv1x1_out): Conv1d(256, 512, kernel_size=(1,), stride=(1,))\n",
      "      (conv1x1_skip): Conv1d(256, 256, kernel_size=(1,), stride=(1,))\n",
      "    )\n",
      "    (22): ResidualConv1dGLU(\n",
      "      (conv): Conv1d(512, 512, kernel_size=(3,), stride=(1,), padding=(32,), dilation=(16,))\n",
      "      (conv1x1c): Conv1d(80, 512, kernel_size=(1,), stride=(1,))\n",
      "      (conv1x1_out): Conv1d(256, 512, kernel_size=(1,), stride=(1,))\n",
      "      (conv1x1_skip): Conv1d(256, 256, kernel_size=(1,), stride=(1,))\n",
      "    )\n",
      "    (23): ResidualConv1dGLU(\n",
      "      (conv): Conv1d(512, 512, kernel_size=(3,), stride=(1,), padding=(64,), dilation=(32,))\n",
      "      (conv1x1c): Conv1d(80, 512, kernel_size=(1,), stride=(1,))\n",
      "      (conv1x1_out): Conv1d(256, 512, kernel_size=(1,), stride=(1,))\n",
      "      (conv1x1_skip): Conv1d(256, 256, kernel_size=(1,), stride=(1,))\n",
      "    )\n",
      "  )\n",
      "  (last_conv_layers): ModuleList(\n",
      "    (0): ReLU(inplace=True)\n",
      "    (1): Conv1d(256, 256, kernel_size=(1,), stride=(1,))\n",
      "    (2): ReLU(inplace=True)\n",
      "    (3): Conv1d(256, 30, kernel_size=(1,), stride=(1,))\n",
      "  )\n",
      "  (upsample_conv): ModuleList(\n",
      "    (0): ConvTranspose2d(1, 1, kernel_size=(3, 4), stride=(1, 4), padding=(1, 0))\n",
      "    (1): ReLU(inplace=True)\n",
      "    (2): ConvTranspose2d(1, 1, kernel_size=(3, 4), stride=(1, 4), padding=(1, 0))\n",
      "    (3): ReLU(inplace=True)\n",
      "    (4): ConvTranspose2d(1, 1, kernel_size=(3, 4), stride=(1, 4), padding=(1, 0))\n",
      "    (5): ReLU(inplace=True)\n",
      "    (6): ConvTranspose2d(1, 1, kernel_size=(3, 4), stride=(1, 4), padding=(1, 0))\n",
      "    (7): ReLU(inplace=True)\n",
      "  )\n",
      ")\n"
     ]
    }
   ],
   "source": [
    "vocoder = build_model().to(device)\n",
    "vocoder_ckpt = torch.load(\"assets/checkpoint_step001000000_ema.pth\")\n",
    "vocoder.load_state_dict(vocoder_ckpt[\"state_dict\"])\n",
    "print(vocoder)"
   ]
  },
  {
   "cell_type": "code",
   "execution_count": 14,
   "metadata": {},
   "outputs": [
    {
     "name": "stderr",
     "output_type": "stream",
     "text": [
      "100%|██████████| 1004032/1004032 [3:43:50<00:00, 74.76it/s] \n"
     ]
    }
   ],
   "source": [
    "wav_cn_to_dm = wavegen(vocoder, c=X_cn_to_dm)\n",
    "wav_dm_to_cn = wavegen(vocoder, c=X_dm_to_cn)\n",
    "\n",
    "sf.write(f\"test/outputs/wavenet/cn2dm.wav\", wav_cn_to_dm, samplerate=16000)\n",
    "sf.write(f\"test/outputs/wavenet/dm2cn.wav\", wav_dm_to_cn, samplerate=16000)"
   ]
  },
  {
   "cell_type": "code",
   "execution_count": null,
   "metadata": {},
   "outputs": [],
   "source": []
  }
 ],
 "metadata": {
  "interpreter": {
   "hash": "04ac5d965b3db33921924e4a2e38f1d6368be396bc709ac17919fb3a402c402d"
  },
  "kernelspec": {
   "display_name": "Python 3.8.12 64-bit ('dev': conda)",
   "language": "python",
   "name": "python3"
  },
  "language_info": {
   "codemirror_mode": {
    "name": "ipython",
    "version": 3
   },
   "file_extension": ".py",
   "mimetype": "text/x-python",
   "name": "python",
   "nbconvert_exporter": "python",
   "pygments_lexer": "ipython3",
   "version": "3.8.12"
  },
  "orig_nbformat": 4
 },
 "nbformat": 4,
 "nbformat_minor": 2
}
